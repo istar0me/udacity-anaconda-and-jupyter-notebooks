{
 "cells": [
  {
   "cell_type": "markdown",
   "metadata": {
    "slideshow": {
     "slide_type": "slide"
    }
   },
   "source": [
    "# Data Types and Operators"
   ]
  },
  {
   "cell_type": "markdown",
   "metadata": {
    "slideshow": {
     "slide_type": "slide"
    }
   },
   "source": [
    "## L2.1 Introduction\n",
    "\n",
    "### print()\n",
    "\n",
    "- `print()` is a useful built-in function in Python that we can use to display our results.\n",
    "\n",
    "    ![print](https://raw.githubusercontent.com/istar0me/udacity-introduction-to-python-programming/master/L2_data_types_and_operators/img/Introduction&#32;1-19&#32;screenshot.png)\n",
    "\n",
    "- Even though there's a space between `print` and `(`, it can still be interpreted. But we're **not recommend** this approach.\n",
    "\n",
    "    ```py\n",
    "    print(1+1) # 2\n",
    "    print (1+1) # 2\n",
    "    ```"
   ]
  },
  {
   "cell_type": "markdown",
   "metadata": {
    "slideshow": {
     "slide_type": "slide"
    }
   },
   "source": [
    "## L2.2 Arithmetic Operators\n",
    "\n",
    "![arithmetic opertors](https://raw.githubusercontent.com/istar0me/udacity-introduction-to-python-programming/master/L2_data_types_and_operators/img/Arithmetic&#32;Operators&#32;0-0&#32;screenshot.png)\n",
    "\n",
    "- `+` : Addition\n",
    "- `-` : Subtraction\n",
    "- `*` : Multiplication\n",
    "\n",
    "---\n",
    "\n",
    "- `/` : Division"
   ]
  },
  {
   "cell_type": "code",
   "execution_count": 1,
   "metadata": {
    "slideshow": {
     "slide_type": "slide"
    }
   },
   "outputs": [
    {
     "name": "stdout",
     "output_type": "stream",
     "text": [
      "3.5\n",
      "-3.5\n",
      "2.3333333333333335\n",
      "-2.3333333333333335\n",
      "2.6666666666666665\n",
      "-2.6666666666666665\n"
     ]
    }
   ],
   "source": [
    "print(7 / 2) # 3.5\n",
    "print(-7 / 2) # -3.5\n",
    "\n",
    "print(7/3) # 2.3333333333333335\n",
    "print(-7/3) # -2.3333333333333335\n",
    "\n",
    "print(8 / 3) # 2.6666666666666665\n",
    "print(-8 / 3) # -2.6666666666666665"
   ]
  }
 ],
 "metadata": {
  "celltoolbar": "Slideshow",
  "kernelspec": {
   "display_name": "Python 3",
   "language": "python",
   "name": "python3"
  },
  "language_info": {
   "codemirror_mode": {
    "name": "ipython",
    "version": 3
   },
   "file_extension": ".py",
   "mimetype": "text/x-python",
   "name": "python",
   "nbconvert_exporter": "python",
   "pygments_lexer": "ipython3",
   "version": "3.7.6"
  }
 },
 "nbformat": 4,
 "nbformat_minor": 4
}
